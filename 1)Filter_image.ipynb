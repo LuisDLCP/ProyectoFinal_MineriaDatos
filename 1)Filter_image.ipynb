{
  "nbformat": 4,
  "nbformat_minor": 0,
  "metadata": {
    "colab": {
      "name": "1)Filter_image.ipynb",
      "provenance": [],
      "authorship_tag": "ABX9TyMhOmeUsDTfTvWHdjOxEvu8",
      "include_colab_link": true
    },
    "kernelspec": {
      "name": "python3",
      "display_name": "Python 3"
    },
    "language_info": {
      "name": "python"
    }
  },
  "cells": [
    {
      "cell_type": "markdown",
      "metadata": {
        "id": "view-in-github",
        "colab_type": "text"
      },
      "source": [
        "<a href=\"https://colab.research.google.com/github/LuisDLCP/ProyectoFinal_MineriaDatos/blob/main/1)Filter_image.ipynb\" target=\"_parent\"><img src=\"https://colab.research.google.com/assets/colab-badge.svg\" alt=\"Open In Colab\"/></a>"
      ]
    },
    {
      "cell_type": "markdown",
      "source": [
        "# **Convertir una Imagen RBG a una Imagen de escala de grises**"
      ],
      "metadata": {
        "id": "HzkXodzUVCuH"
      }
    },
    {
      "cell_type": "code",
      "execution_count": null,
      "metadata": {
        "colab": {
          "base_uri": "https://localhost:8080/"
        },
        "id": "LYVEAR-uUwvq",
        "outputId": "c0eed963-594b-4dd0-c278-9e7157fdc68e"
      },
      "outputs": [
        {
          "output_type": "stream",
          "name": "stdout",
          "text": [
            "Mounted at /content/drive/\n"
          ]
        }
      ],
      "source": [
        "from google.colab import drive\n",
        "drive.mount('/content/drive/')"
      ]
    },
    {
      "cell_type": "code",
      "source": [
        "from google.colab.patches import cv2_imshow\n",
        "from skimage import io\n",
        "from glob import glob\n",
        "import pandas as pd\n",
        "import numpy as np\n",
        "import cv2\n",
        "import os "
      ],
      "metadata": {
        "id": "ArPKsXEtVLvC"
      },
      "execution_count": null,
      "outputs": []
    },
    {
      "cell_type": "code",
      "source": [
        "root_path=\"./drive/MyDrive/Master_program/AprendizajeAutomatico/Proyecto_final/DataSet/\"\n",
        "pathInputFiles_con = root_path + \"3)Data_filtrada/con_mask/\"\n",
        "pathInputFiles_sin = root_path + \"3)Data_filtrada/sin_mask/\"\n",
        "pathOutputFiles_con = root_path + \"4)Data_grayscale/con_mask/\"\n",
        "pathOutputFiles_sin = root_path + \"4)Data_grayscale/sin_mask/\"\n",
        "pathOutputFiles2_con = root_path + \"5)Data_binary/con_mask/\"\n",
        "pathOutputFiles2_sin = root_path + \"5)Data_binary/sin_mask/\""
      ],
      "metadata": {
        "id": "gbGBwqkuVWUd"
      },
      "execution_count": null,
      "outputs": []
    },
    {
      "cell_type": "markdown",
      "source": [
        "1) Ordenar ascendentemente las Imagenes RGB"
      ],
      "metadata": {
        "id": "OmzTOH9GXpGK"
      }
    },
    {
      "cell_type": "code",
      "source": [
        "# Sin mask \n",
        "inputFiles = glob(pathInputFiles_sin+\"*\")\n",
        "i=1\n",
        "for file_i in inputFiles:\n",
        "  #new_name=pathInputFiles_sin+\"sin_mask_\"+str(i)+\".png\" # run this one first\n",
        "  new_name=pathInputFiles_sin+\"sin_mask\"+str(i)+\".png\"\n",
        "  os.rename(file_i,new_name) \n",
        "  i+=1\n",
        "\n",
        "# Con mask \n",
        "inputFiles2 = glob(pathInputFiles_con+\"*\")\n",
        "i=1\n",
        "for file_i in inputFiles2:\n",
        "  #new_name=pathInputFiles_con+\"con_mask_\"+str(i)+\".png\" # run this one first\n",
        "  new_name=pathInputFiles_con+\"con_mask\"+str(i)+\".png\"\n",
        "  os.rename(file_i,new_name) \n",
        "  i+=1\n",
        "print('Done!')"
      ],
      "metadata": {
        "colab": {
          "base_uri": "https://localhost:8080/"
        },
        "id": "2V_XK4p5Xn-q",
        "outputId": "952ce0f2-9f22-4f27-d9c0-74b0595dd106"
      },
      "execution_count": null,
      "outputs": [
        {
          "output_type": "stream",
          "name": "stdout",
          "text": [
            "Done!\n"
          ]
        }
      ]
    },
    {
      "cell_type": "markdown",
      "source": [
        "2) Convertir Imagenes RGB a Imagenes en escala de grises "
      ],
      "metadata": {
        "id": "fuVtI_kcWCZP"
      }
    },
    {
      "cell_type": "code",
      "source": [
        "# Convert 'sin_mask' Images\n",
        "inputFiles3 = glob(pathInputFiles_sin+\"*\")\n",
        "for file_i in inputFiles3:\n",
        "  myImg = io.imread(file_i)  \n",
        "  gray_image = cv2.cvtColor(myImg, cv2.COLOR_BGR2GRAY)\n",
        "  cv2.imwrite(pathOutputFiles_sin + file_i.split(\"/\")[-1], gray_image)\n",
        "\n",
        "cv2_imshow(gray_image)\n",
        "\n",
        "# Convert 'con_mask' Images\n",
        "inputFiles4 = glob(pathInputFiles_con+\"*\")\n",
        "for file_i in inputFiles4:\n",
        "  myImg = io.imread(file_i)  \n",
        "  gray_image = cv2.cvtColor(myImg, cv2.COLOR_BGR2GRAY)\n",
        "  cv2.imwrite(pathOutputFiles_con + file_i.split(\"/\")[-1], gray_image)\n",
        "  \n",
        "cv2_imshow(gray_image)"
      ],
      "metadata": {
        "colab": {
          "base_uri": "https://localhost:8080/",
          "height": 337
        },
        "id": "Mf02H6-DV8nH",
        "outputId": "37867414-c1fc-4e8f-9f48-c7afe173a62c"
      },
      "execution_count": null,
      "outputs": [
        {
          "output_type": "display_data",
          "data": {
            "image/png": "[encoded data removed]",
            "text/plain": [
              "<PIL.Image.Image image mode=L size=160x160 at 0x7F65C6B62ED0>"
            ]
          },
          "metadata": {}
        },
        {
          "output_type": "display_data",
          "data": {
            "image/png": "[encoded data removed]",
            "text/plain": [
              "<PIL.Image.Image image mode=L size=160x160 at 0x7F65C6AF9AD0>"
            ]
          },
          "metadata": {}
        }
      ]
    },
    {
      "cell_type": "markdown",
      "source": [
        "3) Convertir Imagenes grayscale a Binarios "
      ],
      "metadata": {
        "id": "PTX4BdVDb4Go"
      }
    },
    {
      "cell_type": "code",
      "source": [
        "# Convert 'sin_mask' Images\n",
        "inputFiles = glob(pathOutputFiles_sin+\"*\")\n",
        "for file_i in inputFiles:\n",
        "  gray_image_i = io.imread(file_i) \n",
        "  ret,binary_image_i = cv2.threshold(gray_image_i,205,255,cv2.THRESH_BINARY) # 155,205\n",
        "  cv2.imwrite(pathOutputFiles2_sin + file_i.split(\"/\")[-1], binary_image_i)\n",
        "cv2_imshow(binary_image_i)\n",
        "\n",
        "# Convert 'con_mask' Images\n",
        "inputFiles = glob(pathOutputFiles_con+\"*\")\n",
        "for file_i in inputFiles:\n",
        "  gray_image_i = io.imread(file_i) \n",
        "  ret,binary_image_i = cv2.threshold(gray_image_i,205,255,cv2.THRESH_BINARY)\n",
        "  cv2.imwrite(pathOutputFiles2_con + file_i.split(\"/\")[-1], binary_image_i)\n",
        "cv2_imshow(binary_image_i)"
      ],
      "metadata": {
        "colab": {
          "base_uri": "https://localhost:8080/",
          "height": 337
        },
        "id": "GPb7A1IwbYqC",
        "outputId": "717216f1-cbc3-4c65-8171-83559b0bbb68"
      },
      "execution_count": null,
      "outputs": [
        {
          "output_type": "display_data",
          "data": {
            "image/png": "[encoded data removed]",
            "text/plain": [
              "<PIL.Image.Image image mode=L size=160x160 at 0x7F65C6C5E9D0>"
            ]
          },
          "metadata": {}
        },
        {
          "output_type": "display_data",
          "data": {
            "image/png": "[encoded data removed]",
            "text/plain": [
              "<PIL.Image.Image image mode=L size=160x160 at 0x7F65C6AFFA90>"
            ]
          },
          "metadata": {}
        }
      ]
    },
    {
      "cell_type": "code",
      "source": [
        ""
      ],
      "metadata": {
        "id": "Qw_krkm8d6Gk"
      },
      "execution_count": null,
      "outputs": []
    }
  ]
}